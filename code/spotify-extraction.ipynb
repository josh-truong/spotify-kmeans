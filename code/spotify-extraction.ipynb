{
 "cells": [
  {
   "cell_type": "code",
   "execution_count": 2,
   "id": "537b4fa7-0fa7-4842-9e2f-fe071f022ff5",
   "metadata": {
    "tags": []
   },
   "outputs": [
    {
     "name": "stdout",
     "output_type": "stream",
     "text": [
      "Requirement already satisfied: spotipy in c:\\users\\joshk\\anaconda3\\lib\\site-packages (2.19.0)\n",
      "Requirement already satisfied: requests>=2.25.0 in c:\\users\\joshk\\anaconda3\\lib\\site-packages (from spotipy) (2.26.0)\n",
      "Requirement already satisfied: six>=1.15.0 in c:\\users\\joshk\\anaconda3\\lib\\site-packages (from spotipy) (1.16.0)\n",
      "Requirement already satisfied: urllib3>=1.26.0 in c:\\users\\joshk\\anaconda3\\lib\\site-packages (from spotipy) (1.26.7)\n",
      "Requirement already satisfied: charset-normalizer~=2.0.0 in c:\\users\\joshk\\anaconda3\\lib\\site-packages (from requests>=2.25.0->spotipy) (2.0.4)\n",
      "Requirement already satisfied: certifi>=2017.4.17 in c:\\users\\joshk\\anaconda3\\lib\\site-packages (from requests>=2.25.0->spotipy) (2021.10.8)\n",
      "Requirement already satisfied: idna<4,>=2.5 in c:\\users\\joshk\\anaconda3\\lib\\site-packages (from requests>=2.25.0->spotipy) (3.2)\n",
      "Note: you may need to restart the kernel to use updated packages.\n"
     ]
    }
   ],
   "source": [
    "pip install spotipy"
   ]
  },
  {
   "cell_type": "code",
   "execution_count": 31,
   "id": "ec19cee0-c913-4796-9df1-e10431a35a3c",
   "metadata": {},
   "outputs": [],
   "source": [
    "import random\n",
    "import spotipy\n",
    "import time\n",
    "from spotipy.oauth2 import SpotifyClientCredentials #To access authorised Spotify data4\n",
    "import pandas as pd"
   ]
  },
  {
   "cell_type": "code",
   "execution_count": 32,
   "id": "7e288bb4-18c3-4994-ae50-b25620672b1c",
   "metadata": {},
   "outputs": [],
   "source": [
    "client_id = 'ff7520da207c4c1c869bc3dd3c48c68c'\n",
    "client_secret = '334e60847e1f4035aa3ca3002695a546'\n",
    "client_credentials_manager = SpotifyClientCredentials(client_id=client_id, client_secret=client_secret)\n",
    "sp = spotipy.Spotify(client_credentials_manager=client_credentials_manager)"
   ]
  },
  {
   "cell_type": "code",
   "execution_count": 33,
   "id": "3e49ed9a-6915-40cd-811e-2f4a32f9dab2",
   "metadata": {},
   "outputs": [],
   "source": [
    "def get_playlist_tracks(url):\n",
    "    spotify_dict_uri = []\n",
    "    spotify_dict_track_name = []\n",
    "    for track in sp.playlist_tracks(url)[\"items\"]:\n",
    "        spotify_dict_uri.append(track['track']['uri'])\n",
    "        spotify_dict_track_name.append({'track_name':track['track']['name'], 'artist_name':track['track']['artists'][0]['name']})\n",
    "    return spotify_dict_uri,spotify_dict_track_name\n",
    "\n",
    "def get_audio_features(uri_list):\n",
    "    spotify_dict = [] # Better to store in an array then convert to df to reduce overhead\n",
    "    for URI in uri_list: # Iterate through list of URIs\n",
    "        time.sleep(random.uniform(3, 6)) # Waiting\n",
    "        spotify_dict.append(sp.audio_features(URI)[0]) # Get track audio features\n",
    "    return pd.DataFrame(spotify_dict) # Return a df"
   ]
  },
  {
   "cell_type": "code",
   "execution_count": 34,
   "id": "c64ce82a-d744-4db9-ba35-3a8cd19623a3",
   "metadata": {},
   "outputs": [],
   "source": [
    "# Get Playlist Track\n",
    "playlist_link = \"https://open.spotify.com/playlist/2GOs9f03EQxtdTUhQVEb07\"\n",
    "uri_list, track_uri = get_playlist_tracks(playlist_link)"
   ]
  },
  {
   "cell_type": "code",
   "execution_count": 35,
   "id": "69a60db0-0c4e-4932-8895-1a16b42233cb",
   "metadata": {},
   "outputs": [],
   "source": [
    "# Get Audio Features from Track\n",
    "df = get_audio_features(uri_list)"
   ]
  },
  {
   "cell_type": "code",
   "execution_count": 36,
   "id": "77809155-f89c-4331-ae03-ec34c4f281c7",
   "metadata": {},
   "outputs": [],
   "source": [
    "# Filter for features of interests\n",
    "features = ['id','track_href','acousticness','danceability','energy','instrumentalness','liveness','loudness','speechiness','tempo','valence']\n",
    "df_tracks = (pd.DataFrame(track_uri)).join(df[features])\n",
    "df_tracks.to_csv('./data/spotify-tracks.csv', header=False, mode = 'a', index=False)"
   ]
  },
  {
   "cell_type": "code",
   "execution_count": null,
   "id": "00d17551",
   "metadata": {},
   "outputs": [],
   "source": []
  }
 ],
 "metadata": {
  "kernelspec": {
   "display_name": "Python 3 (ipykernel)",
   "language": "python",
   "name": "python3"
  },
  "language_info": {
   "codemirror_mode": {
    "name": "ipython",
    "version": 3
   },
   "file_extension": ".py",
   "mimetype": "text/x-python",
   "name": "python",
   "nbconvert_exporter": "python",
   "pygments_lexer": "ipython3",
   "version": "3.9.7"
  }
 },
 "nbformat": 4,
 "nbformat_minor": 5
}
